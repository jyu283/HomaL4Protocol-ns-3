{
 "cells": [
  {
   "cell_type": "markdown",
   "metadata": {},
   "source": [
    "# Parameters"
   ]
  },
  {
   "cell_type": "code",
   "execution_count": 32,
   "metadata": {},
   "outputs": [],
   "source": [
    "# TRACEFILE = \"./MsgTraces_W5_load-80p_0_IMPORTANT.tr\"\n",
    "TRACEFILE = \"./MsgTraces_W5_load-1000p_0_10x_load.tr\""
   ]
  },
  {
   "cell_type": "code",
   "execution_count": 45,
   "metadata": {},
   "outputs": [],
   "source": [
    "from typing import Dict, List\n",
    "from collections import defaultdict\n",
    "\n",
    "class Message:\n",
    "    def __init__(self, sender, receiver, txid, sz):\n",
    "        self.sender = sender\n",
    "        self.receiver = receiver\n",
    "        self.key = self.get_key(sender, receiver, txid)\n",
    "\n",
    "        self.sz = sz\n",
    "        self.start_ts = 0.0\n",
    "        self.end_ts = 0.0\n",
    "    \n",
    "    @property\n",
    "    def completion_time(self):\n",
    "        return self.end_ts - self.start_ts\n",
    "    \n",
    "    @staticmethod\n",
    "    def get_key(sender, receiver, txid):\n",
    "        return \"%s %s\\t%s\" % (sender, receiver, txid)\n",
    "    \n",
    "    def __str__(self):\n",
    "        return f\"{self.key}\\t{self.completion_time}\"\n",
    "\n",
    "def process(tracefile):\n",
    "\n",
    "    messages: Dict[str, List[Message]] = defaultdict(lambda: []) \n",
    "    messages_size2delays: Dict[int, List[float]] = defaultdict(lambda: []) \n",
    "    messages_allsizes: List[int] = []\n",
    "\n",
    "    with open(tracefile, \"r\") as f:\n",
    "        for line in f:\n",
    "            log = line.split()\n",
    "            ts = float(log[1]) * 1e-9   # seconds\n",
    "            sz = int(log[2])            # bytes\n",
    "            sender = log[3]             # ip:port\n",
    "            receiver = log[4]             # ip:port\n",
    "            txid = int(log[5])\n",
    "\n",
    "            key = Message.get_key(sender, receiver, txid)\n",
    "\n",
    "            if log[0] == \"+\":\n",
    "                msg = Message(sender, receiver, txid, sz)\n",
    "                msg.start_ts = ts\n",
    "                messages[key].append(msg)\n",
    "            elif log[0] == \"-\":\n",
    "                msg = next((m for m in messages[key] if m.end_ts == 0), None)\n",
    "                if not msg:\n",
    "                    print(\"ERROR: cannot find start entry for \", line)\n",
    "                    continue\n",
    "                \n",
    "                if msg.end_ts:\n",
    "                    print(\"Message already has an end_ts!\", msg)\n",
    "                    continue\n",
    "                \n",
    "                msg.end_ts = ts\n",
    "                messages_allsizes.append(msg.sz)\n",
    "                messages_size2delays[msg.sz].append(msg.completion_time)\n",
    "\n",
    "    all_messages_list = []\n",
    "    for msgs in list(messages.values()):\n",
    "        all_messages_list.extend(msgs)\n",
    "    \n",
    "    return all_messages_list"
   ]
  },
  {
   "cell_type": "code",
   "execution_count": 37,
   "metadata": {},
   "outputs": [],
   "source": [
    "import matplotlib.pyplot as plt\n"
   ]
  },
  {
   "cell_type": "markdown",
   "metadata": {},
   "source": [
    "## Average receiver bandwith utilization"
   ]
  },
  {
   "cell_type": "code",
   "execution_count": 62,
   "metadata": {},
   "outputs": [
    {
     "name": "stderr",
     "output_type": "stream",
     "text": [
      "/tmp/ipykernel_377080/935666785.py:30: MatplotlibDeprecationWarning: Support for passing numbers through unit converters is deprecated since 3.5 and support will be removed two minor releases later; use Axis.convert_units instead.\n",
      "  plt.xticks([])\n"
     ]
    },
    {
     "data": {
      "image/png": "[encoded data removed]",
      "text/plain": [
       "<Figure size 400x300 with 1 Axes>"
      ]
     },
     "metadata": {},
     "output_type": "display_data"
    }
   ],
   "source": [
    "def chart(all_messages_list, color, label):\n",
    "    rx_util = dict()\n",
    "\n",
    "    recv_start_ts = defaultdict(lambda: 999999999999)\n",
    "    recv_end_ts = defaultdict(lambda: 0)\n",
    "    recv_bytes = defaultdict(int)\n",
    "\n",
    "    for msg in all_messages_list:\n",
    "        if not msg.end_ts:\n",
    "            continue\n",
    "        recv_start_ts[msg.receiver] = min(msg.start_ts, recv_start_ts[msg.receiver])\n",
    "        recv_end_ts[msg.receiver] = max(msg.end_ts, recv_end_ts[msg.receiver])\n",
    "        recv_bytes[msg.receiver] += msg.sz\n",
    "\n",
    "    for r, totsz in recv_bytes.items():\n",
    "        duration = recv_end_ts[r] - recv_start_ts[r]\n",
    "        rx_util[r] = (totsz * 8 / duration) / 1024 / 1024 / 1024\n",
    "\n",
    "    # Creating the scatter plot\n",
    "    plt.scatter(rx_util.keys(), sorted(rx_util.values()), color=color, marker='x', label=label, s=10)\n",
    "\n",
    "plt.figure(figsize=(4, 3))  # Set the figure size\n",
    "chart(process(\"./MsgTraces_W5_load-80p_0_IMPORTANT.tr\"), color=\"blue\", label=\"80%\")\n",
    "chart(process(\"./MsgTraces_W5_load-1000p_0_10x_load.tr\"), color=\"red\", label=\"1000%\")\n",
    "\n",
    "# Adding labels and title\n",
    "plt.title('Bandwidth Utilization for Receivers (W5)')\n",
    "plt.xlabel('Receivers')\n",
    "plt.ylabel('Bandwidth/Goodput (Gbps)')\n",
    "plt.xticks([])\n",
    "plt.ylim([0,10])\n",
    "plt.legend()\n",
    "\n",
    "# Show grid\n",
    "# plt.grid(True)\n",
    "plt.grid(axis='y', which='major')  # Show only horizontal grid lines on the y-axis\n",
    "\n",
    "# Display the plot\n",
    "plt.show()\n",
    "\n",
    "# for msg in all_messages_list:\n",
    "#     if msg.receiver in rx_util:\n",
    "#         rx_util[msg.receiver] += msg.sz\n",
    "#     else:\n",
    "#         rx_util[msg.receiver] = msg.sz\n",
    "\n",
    "# for k in rx_util.keys():\n",
    "#     rx_util[k] /= max_bytes\n",
    "#     if rx_util[k] > 1:\n",
    "#         print(\"Hellfire!\", rx_util[k])\n",
    "\n",
    "\n"
   ]
  },
  {
   "cell_type": "markdown",
   "metadata": {},
   "source": []
  }
 ],
 "metadata": {
  "kernelspec": {
   "display_name": "Python 3",
   "language": "python",
   "name": "python3"
  },
  "language_info": {
   "codemirror_mode": {
    "name": "ipython",
    "version": 3
   },
   "file_extension": ".py",
   "mimetype": "text/x-python",
   "name": "python",
   "nbconvert_exporter": "python",
   "pygments_lexer": "ipython3",
   "version": "3.10.12"
  }
 },
 "nbformat": 4,
 "nbformat_minor": 2
}
